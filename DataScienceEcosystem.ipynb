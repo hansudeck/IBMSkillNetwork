{
 "cells": [
  {
   "cell_type": "markdown",
   "id": "155fb7cc-9ca0-4e8f-a7de-0c4a758c4c97",
   "metadata": {},
   "source": [
    "# Data Science Tools and Ecosystem"
   ]
  },
  {
   "cell_type": "markdown",
   "id": "79c3488d-fcaa-4f03-b8a0-48ab92dc9573",
   "metadata": {},
   "source": [
    "In this notebook, Data Science Tools and Ecosystem are summarized."
   ]
  },
  {
   "cell_type": "markdown",
   "id": "8b111c79-744b-4946-b049-9ad33c78da9c",
   "metadata": {},
   "source": [
    "Some of the popular languages that Data Scientists use are:\n",
    "1. Python\n",
    "2. R\n",
    "3. SQL"
   ]
  },
  {
   "cell_type": "markdown",
   "id": "6449b53b-2834-4f40-adf2-68853011b44a",
   "metadata": {},
   "source": [
    "  Some of the commonly used libraries used by Data Scientits include:\n",
    "  1. Pandas\n",
    "  2. Numpy\n",
    "  3. Matplotlib\n",
    "  4. Keras"
   ]
  },
  {
   "cell_type": "markdown",
   "id": "1566d27e-3d3e-47fb-a43f-7a56c516d1b0",
   "metadata": {
    "tags": []
   },
   "source": [
    "| Data Science Tools|\n",
    "|:-----------------|\n",
    "| RStudio                                           |\n",
    "| Watson                                            |\n",
    "| Jupyter \n",
    "\n",
    "* **Objectives**\n",
    "     + create a Jupyter Notebook\n",
    "     + insert code and markdown cells\n",
    "     + share your notbook through Github\n"
   ]
  },
  {
   "cell_type": "markdown",
   "id": "d4aa94d8-81c9-4ac5-94a9-5b313449d056",
   "metadata": {
    "tags": []
   },
   "source": [
    "### Below are a few examples of evaluating arimethic expressions in Python"
   ]
  },
  {
   "cell_type": "markdown",
   "id": "4e9931bf-4a15-48a1-9539-684fc5374fd2",
   "metadata": {},
   "source": [
    "This is a simple arithmetic expression to multiply then add integers."
   ]
  },
  {
   "cell_type": "code",
   "execution_count": 35,
   "id": "013f3d57-b077-478a-b578-f83bfebad338",
   "metadata": {
    "tags": []
   },
   "outputs": [
    {
     "data": {
      "text/plain": [
       "17"
      ]
     },
     "execution_count": 35,
     "metadata": {},
     "output_type": "execute_result"
    }
   ],
   "source": [
    "  (3*4)+5 "
   ]
  },
  {
   "cell_type": "markdown",
   "id": "a4012a65-b055-4701-81c7-bec2f1d1fc36",
   "metadata": {},
   "source": [
    "This will convert 200 minutes to hours by diving by 60."
   ]
  },
  {
   "cell_type": "code",
   "execution_count": 38,
   "id": "50c32e14-adfb-4e6d-bfb5-e0de016d9428",
   "metadata": {
    "tags": []
   },
   "outputs": [
    {
     "data": {
      "text/plain": [
       "3.3333333333333335"
      ]
     },
     "execution_count": 38,
     "metadata": {},
     "output_type": "execute_result"
    }
   ],
   "source": [
    "200/60"
   ]
  },
  {
   "cell_type": "markdown",
   "id": "8477f6a9-cf42-480f-925a-fd356def54ca",
   "metadata": {},
   "source": [
    "## Author\n",
    "Hans U deck"
   ]
  },
  {
   "cell_type": "code",
   "execution_count": null,
   "id": "3dc6164d-afd3-4be1-b616-205a6022275b",
   "metadata": {},
   "outputs": [],
   "source": []
  }
 ],
 "metadata": {
  "kernelspec": {
   "display_name": "Python 3 (ipykernel)",
   "language": "python",
   "name": "python3"
  },
  "language_info": {
   "codemirror_mode": {
    "name": "ipython",
    "version": 3
   },
   "file_extension": ".py",
   "mimetype": "text/x-python",
   "name": "python",
   "nbconvert_exporter": "python",
   "pygments_lexer": "ipython3",
   "version": "3.10.9"
  }
 },
 "nbformat": 4,
 "nbformat_minor": 5
}
